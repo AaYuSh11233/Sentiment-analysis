{
 "cells": [
  {
   "cell_type": "code",
   "execution_count": null,
   "id": "cc84b793",
   "metadata": {},
   "outputs": [],
   "source": [
    "import numpy as np\n",
    "import pandas as pd\n",
    "import librosa\n",
    "import os\n",
    "from tensorflow.keras.models import Sequential\n",
    "from tensorflow.keras.layers import Dense, LSTM\n",
    "from tensorflow.keras.utils import to_categorical\n",
    "\n",
    "# Load data\n",
    "data_dir = '../data/audio/'\n",
    "X, y = [], []\n",
    "labels = {\"happy\":0, \"sad\":1, \"angry\":2, \"neutral\":3}\n",
    "\n",
    "for label in labels:\n",
    "    folder = os.path.join(data_dir, label)\n",
    "    for file in os.listdir(folder):\n",
    "        path = os.path.join(folder, file)\n",
    "        y_audio, sr = librosa.load(path, duration=3, offset=0.5)\n",
    "        mfcc = librosa.feature.mfcc(y=y_audio, sr=sr, n_mfcc=40)\n",
    "        X.append(np.mean(mfcc.T, axis=0))\n",
    "        y.append(labels[label])\n",
    "\n",
    "X, y = np.array(X), to_categorical(y, num_classes=4)\n",
    "\n",
    "# Model\n",
    "model = Sequential([\n",
    "    Dense(256, activation='relu', input_shape=(40,)),\n",
    "    Dense(128, activation='relu'),\n",
    "    Dense(4, activation='softmax')\n",
    "])\n",
    "model.compile(optimizer='adam', loss='categorical_crossentropy', metrics=['accuracy'])\n",
    "\n",
    "# Train\n",
    "model.fit(X, y, epochs=20, batch_size=16)\n",
    "\n",
    "# Save\n",
    "model.save(\"../models/audio_model.h5\")\n"
   ]
  }
 ],
 "metadata": {
  "kernelspec": {
   "display_name": "venv",
   "language": "python",
   "name": "python3"
  },
  "language_info": {
   "name": "python",
   "version": "3.12.6"
  }
 },
 "nbformat": 4,
 "nbformat_minor": 5
}
